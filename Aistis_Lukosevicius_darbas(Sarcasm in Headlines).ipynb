{
 "cells": [
  {
   "cell_type": "markdown",
   "metadata": {},
   "source": [
    "# Sarkazmo aptikimas naujienų antraštėse"
   ]
  },
  {
   "cell_type": "markdown",
   "metadata": {},
   "source": [
    "#### https://www.kaggle.com/rmisra/news-headlines-dataset-for-sarcasm-detection"
   ]
  },
  {
   "cell_type": "code",
   "execution_count": 183,
   "metadata": {},
   "outputs": [],
   "source": [
    "import pandas as pd\n",
    "import numpy as np\n",
    "import matplotlib.pyplot as plt\n",
    "import seaborn as sn\n",
    "\n",
    "from sklearn.feature_extraction.text import TfidfVectorizer\n",
    "from sklearn.model_selection import train_test_split\n",
    "from sklearn.naive_bayes import MultinomialNB\n",
    "import re\n",
    "from sklearn import metrics"
   ]
  },
  {
   "cell_type": "markdown",
   "metadata": {},
   "source": [
    "## Duomenų pasiruošimas"
   ]
  },
  {
   "cell_type": "code",
   "execution_count": 184,
   "metadata": {
    "scrolled": false
   },
   "outputs": [],
   "source": [
    "df_con = pd.read_json('Sarcasm_Headlines_Dataset.json', lines=True)\n",
    "df_test = pd.read_json('Sarcasm_Headlines_Dataset_v2.json', lines=True)\n",
    "\n",
    "bad_words_lst = ['fucking', 'fuck', 'shit', 'asshole', 'shitty', 'fucks']"
   ]
  },
  {
   "cell_type": "code",
   "execution_count": 185,
   "metadata": {
    "scrolled": true
   },
   "outputs": [
    {
     "data": {
      "text/html": [
       "<div>\n",
       "<style scoped>\n",
       "    .dataframe tbody tr th:only-of-type {\n",
       "        vertical-align: middle;\n",
       "    }\n",
       "\n",
       "    .dataframe tbody tr th {\n",
       "        vertical-align: top;\n",
       "    }\n",
       "\n",
       "    .dataframe thead th {\n",
       "        text-align: right;\n",
       "    }\n",
       "</style>\n",
       "<table border=\"1\" class=\"dataframe\">\n",
       "  <thead>\n",
       "    <tr style=\"text-align: right;\">\n",
       "      <th></th>\n",
       "      <th>article_link</th>\n",
       "      <th>headline</th>\n",
       "      <th>is_sarcastic</th>\n",
       "    </tr>\n",
       "  </thead>\n",
       "  <tbody>\n",
       "    <tr>\n",
       "      <td>0</td>\n",
       "      <td>https://www.huffingtonpost.com/entry/versace-b...</td>\n",
       "      <td>former versace store clerk sues over secret 'b...</td>\n",
       "      <td>0</td>\n",
       "    </tr>\n",
       "    <tr>\n",
       "      <td>1</td>\n",
       "      <td>https://www.huffingtonpost.com/entry/roseanne-...</td>\n",
       "      <td>the 'roseanne' revival catches up to our thorn...</td>\n",
       "      <td>0</td>\n",
       "    </tr>\n",
       "    <tr>\n",
       "      <td>2</td>\n",
       "      <td>https://local.theonion.com/mom-starting-to-fea...</td>\n",
       "      <td>mom starting to fear son's web series closest ...</td>\n",
       "      <td>1</td>\n",
       "    </tr>\n",
       "    <tr>\n",
       "      <td>3</td>\n",
       "      <td>https://politics.theonion.com/boehner-just-wan...</td>\n",
       "      <td>boehner just wants wife to listen, not come up...</td>\n",
       "      <td>1</td>\n",
       "    </tr>\n",
       "    <tr>\n",
       "      <td>4</td>\n",
       "      <td>https://www.huffingtonpost.com/entry/jk-rowlin...</td>\n",
       "      <td>j.k. rowling wishes snape happy birthday in th...</td>\n",
       "      <td>0</td>\n",
       "    </tr>\n",
       "    <tr>\n",
       "      <td>...</td>\n",
       "      <td>...</td>\n",
       "      <td>...</td>\n",
       "      <td>...</td>\n",
       "    </tr>\n",
       "    <tr>\n",
       "      <td>26704</td>\n",
       "      <td>https://www.huffingtonpost.com/entry/american-...</td>\n",
       "      <td>american politics in moral free-fall</td>\n",
       "      <td>0</td>\n",
       "    </tr>\n",
       "    <tr>\n",
       "      <td>26705</td>\n",
       "      <td>https://www.huffingtonpost.com/entry/americas-...</td>\n",
       "      <td>america's best 20 hikes</td>\n",
       "      <td>0</td>\n",
       "    </tr>\n",
       "    <tr>\n",
       "      <td>26706</td>\n",
       "      <td>https://www.huffingtonpost.com/entry/reparatio...</td>\n",
       "      <td>reparations and obama</td>\n",
       "      <td>0</td>\n",
       "    </tr>\n",
       "    <tr>\n",
       "      <td>26707</td>\n",
       "      <td>https://www.huffingtonpost.com/entry/israeli-b...</td>\n",
       "      <td>israeli ban targeting boycott supporters raise...</td>\n",
       "      <td>0</td>\n",
       "    </tr>\n",
       "    <tr>\n",
       "      <td>26708</td>\n",
       "      <td>https://www.huffingtonpost.com/entry/gourmet-g...</td>\n",
       "      <td>gourmet gifts for the foodie 2014</td>\n",
       "      <td>0</td>\n",
       "    </tr>\n",
       "  </tbody>\n",
       "</table>\n",
       "<p>26709 rows × 3 columns</p>\n",
       "</div>"
      ],
      "text/plain": [
       "                                            article_link  \\\n",
       "0      https://www.huffingtonpost.com/entry/versace-b...   \n",
       "1      https://www.huffingtonpost.com/entry/roseanne-...   \n",
       "2      https://local.theonion.com/mom-starting-to-fea...   \n",
       "3      https://politics.theonion.com/boehner-just-wan...   \n",
       "4      https://www.huffingtonpost.com/entry/jk-rowlin...   \n",
       "...                                                  ...   \n",
       "26704  https://www.huffingtonpost.com/entry/american-...   \n",
       "26705  https://www.huffingtonpost.com/entry/americas-...   \n",
       "26706  https://www.huffingtonpost.com/entry/reparatio...   \n",
       "26707  https://www.huffingtonpost.com/entry/israeli-b...   \n",
       "26708  https://www.huffingtonpost.com/entry/gourmet-g...   \n",
       "\n",
       "                                                headline  is_sarcastic  \n",
       "0      former versace store clerk sues over secret 'b...             0  \n",
       "1      the 'roseanne' revival catches up to our thorn...             0  \n",
       "2      mom starting to fear son's web series closest ...             1  \n",
       "3      boehner just wants wife to listen, not come up...             1  \n",
       "4      j.k. rowling wishes snape happy birthday in th...             0  \n",
       "...                                                  ...           ...  \n",
       "26704               american politics in moral free-fall             0  \n",
       "26705                            america's best 20 hikes             0  \n",
       "26706                              reparations and obama             0  \n",
       "26707  israeli ban targeting boycott supporters raise...             0  \n",
       "26708                  gourmet gifts for the foodie 2014             0  \n",
       "\n",
       "[26709 rows x 3 columns]"
      ]
     },
     "execution_count": 185,
     "metadata": {},
     "output_type": "execute_result"
    }
   ],
   "source": [
    "df_con"
   ]
  },
  {
   "cell_type": "code",
   "execution_count": 186,
   "metadata": {},
   "outputs": [],
   "source": [
    "def data_prep(df):\n",
    "    #svarbių article link dalių perkėlimas į headline (Train data)\n",
    "    url = df['article_link']\n",
    "    url = url.str.replace(\".\",\"\")\n",
    "    df['headline'] = df['headline'] + ' ' + url.str.split('https://').str[1].str.split('www').str[-1].str.split('net').str[0].str.split('com').str[0]\n",
    "    df = df.drop(['article_link'], axis=1)\n",
    "\n",
    "    #keiksmažodžių cenzūravimas ir pritaikymas modeliui (Train data)\n",
    "    big_regex = re.compile('|'.join(map(re.escape, bad_words_lst)))\n",
    "    df['headline'] = df['headline'].apply(lambda x: big_regex.sub(\"swear_word\", x) if any(i in x for i in bad_words_lst) else x)\n",
    "    df['headline'] = df['headline'].str.replace('[0-9]+','')  \n",
    "    \n",
    "    return df"
   ]
  },
  {
   "cell_type": "code",
   "execution_count": 187,
   "metadata": {},
   "outputs": [],
   "source": [
    "df_con = data_prep(df_con)\n",
    "df_test = data_prep(df_test)"
   ]
  },
  {
   "cell_type": "markdown",
   "metadata": {},
   "source": [
    "## Duomenų įvertinimas"
   ]
  },
  {
   "cell_type": "code",
   "execution_count": 188,
   "metadata": {
    "scrolled": true
   },
   "outputs": [
    {
     "data": {
      "text/html": [
       "<div>\n",
       "<style scoped>\n",
       "    .dataframe tbody tr th:only-of-type {\n",
       "        vertical-align: middle;\n",
       "    }\n",
       "\n",
       "    .dataframe tbody tr th {\n",
       "        vertical-align: top;\n",
       "    }\n",
       "\n",
       "    .dataframe thead th {\n",
       "        text-align: right;\n",
       "    }\n",
       "</style>\n",
       "<table border=\"1\" class=\"dataframe\">\n",
       "  <thead>\n",
       "    <tr style=\"text-align: right;\">\n",
       "      <th></th>\n",
       "      <th>headline</th>\n",
       "      <th>is_sarcastic</th>\n",
       "    </tr>\n",
       "  </thead>\n",
       "  <tbody>\n",
       "    <tr>\n",
       "      <td>0</td>\n",
       "      <td>former versace store clerk sues over secret 'b...</td>\n",
       "      <td>0</td>\n",
       "    </tr>\n",
       "    <tr>\n",
       "      <td>1</td>\n",
       "      <td>the 'roseanne' revival catches up to our thorn...</td>\n",
       "      <td>0</td>\n",
       "    </tr>\n",
       "    <tr>\n",
       "      <td>2</td>\n",
       "      <td>mom starting to fear son's web series closest ...</td>\n",
       "      <td>1</td>\n",
       "    </tr>\n",
       "    <tr>\n",
       "      <td>3</td>\n",
       "      <td>boehner just wants wife to listen, not come up...</td>\n",
       "      <td>1</td>\n",
       "    </tr>\n",
       "    <tr>\n",
       "      <td>4</td>\n",
       "      <td>j.k. rowling wishes snape happy birthday in th...</td>\n",
       "      <td>0</td>\n",
       "    </tr>\n",
       "    <tr>\n",
       "      <td>...</td>\n",
       "      <td>...</td>\n",
       "      <td>...</td>\n",
       "    </tr>\n",
       "    <tr>\n",
       "      <td>26704</td>\n",
       "      <td>american politics in moral free-fall huffingto...</td>\n",
       "      <td>0</td>\n",
       "    </tr>\n",
       "    <tr>\n",
       "      <td>26705</td>\n",
       "      <td>america's best  hikes huffingtonpost</td>\n",
       "      <td>0</td>\n",
       "    </tr>\n",
       "    <tr>\n",
       "      <td>26706</td>\n",
       "      <td>reparations and obama huffingtonpost</td>\n",
       "      <td>0</td>\n",
       "    </tr>\n",
       "    <tr>\n",
       "      <td>26707</td>\n",
       "      <td>israeli ban targeting boycott supporters raise...</td>\n",
       "      <td>0</td>\n",
       "    </tr>\n",
       "    <tr>\n",
       "      <td>26708</td>\n",
       "      <td>gourmet gifts for the foodie  huffingtonpost</td>\n",
       "      <td>0</td>\n",
       "    </tr>\n",
       "  </tbody>\n",
       "</table>\n",
       "<p>26709 rows × 2 columns</p>\n",
       "</div>"
      ],
      "text/plain": [
       "                                                headline  is_sarcastic\n",
       "0      former versace store clerk sues over secret 'b...             0\n",
       "1      the 'roseanne' revival catches up to our thorn...             0\n",
       "2      mom starting to fear son's web series closest ...             1\n",
       "3      boehner just wants wife to listen, not come up...             1\n",
       "4      j.k. rowling wishes snape happy birthday in th...             0\n",
       "...                                                  ...           ...\n",
       "26704  american politics in moral free-fall huffingto...             0\n",
       "26705               america's best  hikes huffingtonpost             0\n",
       "26706               reparations and obama huffingtonpost             0\n",
       "26707  israeli ban targeting boycott supporters raise...             0\n",
       "26708       gourmet gifts for the foodie  huffingtonpost             0\n",
       "\n",
       "[26709 rows x 2 columns]"
      ]
     },
     "execution_count": 188,
     "metadata": {},
     "output_type": "execute_result"
    }
   ],
   "source": [
    "df_con"
   ]
  },
  {
   "cell_type": "code",
   "execution_count": 189,
   "metadata": {},
   "outputs": [
    {
     "data": {
      "text/plain": [
       "'sick swear_words line up to gape at dead body theonion'"
      ]
     },
     "execution_count": 189,
     "metadata": {},
     "output_type": "execute_result"
    }
   ],
   "source": [
    "df_con['headline'][72]"
   ]
  },
  {
   "cell_type": "code",
   "execution_count": 190,
   "metadata": {},
   "outputs": [
    {
     "data": {
      "text/plain": [
       "<Figure size 1080x720 with 0 Axes>"
      ]
     },
     "execution_count": 190,
     "metadata": {},
     "output_type": "execute_result"
    },
    {
     "data": {
      "image/png": "[encoded data removed]",
      "text/plain": [
       "<Figure size 432x288 with 1 Axes>"
      ]
     },
     "metadata": {},
     "output_type": "display_data"
    },
    {
     "data": {
      "text/plain": [
       "<Figure size 1080x720 with 0 Axes>"
      ]
     },
     "metadata": {},
     "output_type": "display_data"
    }
   ],
   "source": [
    "sn.set(style=\"whitegrid\")\n",
    "sn.countplot(df_con.is_sarcastic)\n",
    "plt.title('Sarcasm vs Non-sarcasm')\n",
    "plt.figure(figsize=(15,10))"
   ]
  },
  {
   "cell_type": "code",
   "execution_count": 191,
   "metadata": {
    "scrolled": false
   },
   "outputs": [
    {
     "data": {
      "text/plain": [
       "0    14985\n",
       "1    11724\n",
       "Name: is_sarcastic, dtype: int64"
      ]
     },
     "execution_count": 191,
     "metadata": {},
     "output_type": "execute_result"
    }
   ],
   "source": [
    "df_con.is_sarcastic.value_counts()"
   ]
  },
  {
   "cell_type": "code",
   "execution_count": 192,
   "metadata": {
    "scrolled": true
   },
   "outputs": [
    {
     "data": {
      "text/plain": [
       "0.5610468381444457"
      ]
     },
     "execution_count": 192,
     "metadata": {},
     "output_type": "execute_result"
    }
   ],
   "source": [
    "#prognozavimo rezultatai be modelio.\n",
    "1 - df_con.is_sarcastic.mean()"
   ]
  },
  {
   "cell_type": "markdown",
   "metadata": {},
   "source": [
    "## Duomenų paskirstymas į train ir test grupes"
   ]
  },
  {
   "cell_type": "code",
   "execution_count": 193,
   "metadata": {},
   "outputs": [],
   "source": [
    "X_train = df_con['headline']\n",
    "y_train = df_con['is_sarcastic']\n",
    "\n",
    "X_test = df_test['headline']\n",
    "y_test = df_test['is_sarcastic']"
   ]
  },
  {
   "cell_type": "markdown",
   "metadata": {},
   "source": [
    "## Duomenų keitimas į skaitines reikšmes naudojant TfidfVectorizer()"
   ]
  },
  {
   "cell_type": "code",
   "execution_count": 194,
   "metadata": {},
   "outputs": [],
   "source": [
    "vect = TfidfVectorizer(stop_words='english', ngram_range=(1,2), max_df=0.8, min_df=10)\n",
    "X_train_sm = vect.fit_transform(X_train)\n",
    "X_test_sm = vect.transform(X_test)"
   ]
  },
  {
   "cell_type": "code",
   "execution_count": 195,
   "metadata": {},
   "outputs": [
    {
     "data": {
      "text/plain": [
       "<26709x4216 sparse matrix of type '<class 'numpy.float64'>'\n",
       "\twith 167576 stored elements in Compressed Sparse Row format>"
      ]
     },
     "execution_count": 195,
     "metadata": {},
     "output_type": "execute_result"
    }
   ],
   "source": [
    "X_train_sm"
   ]
  },
  {
   "cell_type": "code",
   "execution_count": 196,
   "metadata": {
    "scrolled": false
   },
   "outputs": [
    {
     "data": {
      "text/html": [
       "<div>\n",
       "<style scoped>\n",
       "    .dataframe tbody tr th:only-of-type {\n",
       "        vertical-align: middle;\n",
       "    }\n",
       "\n",
       "    .dataframe tbody tr th {\n",
       "        vertical-align: top;\n",
       "    }\n",
       "\n",
       "    .dataframe thead th {\n",
       "        text-align: right;\n",
       "    }\n",
       "</style>\n",
       "<table border=\"1\" class=\"dataframe\">\n",
       "  <thead>\n",
       "    <tr style=\"text-align: right;\">\n",
       "      <th></th>\n",
       "      <th>abandoned</th>\n",
       "      <th>abc</th>\n",
       "      <th>ability</th>\n",
       "      <th>able</th>\n",
       "      <th>abortion</th>\n",
       "      <th>abroad</th>\n",
       "      <th>absence</th>\n",
       "      <th>absolutely</th>\n",
       "      <th>abuse</th>\n",
       "      <th>abused</th>\n",
       "      <th>...</th>\n",
       "      <th>york times</th>\n",
       "      <th>young</th>\n",
       "      <th>younger</th>\n",
       "      <th>youth</th>\n",
       "      <th>youtube</th>\n",
       "      <th>zero</th>\n",
       "      <th>zika</th>\n",
       "      <th>zone</th>\n",
       "      <th>zoo</th>\n",
       "      <th>zuckerberg</th>\n",
       "    </tr>\n",
       "  </thead>\n",
       "  <tbody>\n",
       "    <tr>\n",
       "      <td>0</td>\n",
       "      <td>0.0</td>\n",
       "      <td>0.0</td>\n",
       "      <td>0.0</td>\n",
       "      <td>0.0</td>\n",
       "      <td>0.0</td>\n",
       "      <td>0.000000</td>\n",
       "      <td>0.0</td>\n",
       "      <td>0.0</td>\n",
       "      <td>0.0</td>\n",
       "      <td>0.0</td>\n",
       "      <td>...</td>\n",
       "      <td>0.0</td>\n",
       "      <td>0.0</td>\n",
       "      <td>0.0</td>\n",
       "      <td>0.0</td>\n",
       "      <td>0.0</td>\n",
       "      <td>0.0</td>\n",
       "      <td>0.0</td>\n",
       "      <td>0.0</td>\n",
       "      <td>0.0</td>\n",
       "      <td>0.0</td>\n",
       "    </tr>\n",
       "    <tr>\n",
       "      <td>1</td>\n",
       "      <td>0.0</td>\n",
       "      <td>0.0</td>\n",
       "      <td>0.0</td>\n",
       "      <td>0.0</td>\n",
       "      <td>0.0</td>\n",
       "      <td>0.000000</td>\n",
       "      <td>0.0</td>\n",
       "      <td>0.0</td>\n",
       "      <td>0.0</td>\n",
       "      <td>0.0</td>\n",
       "      <td>...</td>\n",
       "      <td>0.0</td>\n",
       "      <td>0.0</td>\n",
       "      <td>0.0</td>\n",
       "      <td>0.0</td>\n",
       "      <td>0.0</td>\n",
       "      <td>0.0</td>\n",
       "      <td>0.0</td>\n",
       "      <td>0.0</td>\n",
       "      <td>0.0</td>\n",
       "      <td>0.0</td>\n",
       "    </tr>\n",
       "    <tr>\n",
       "      <td>2</td>\n",
       "      <td>0.0</td>\n",
       "      <td>0.0</td>\n",
       "      <td>0.0</td>\n",
       "      <td>0.0</td>\n",
       "      <td>0.0</td>\n",
       "      <td>0.000000</td>\n",
       "      <td>0.0</td>\n",
       "      <td>0.0</td>\n",
       "      <td>0.0</td>\n",
       "      <td>0.0</td>\n",
       "      <td>...</td>\n",
       "      <td>0.0</td>\n",
       "      <td>0.0</td>\n",
       "      <td>0.0</td>\n",
       "      <td>0.0</td>\n",
       "      <td>0.0</td>\n",
       "      <td>0.0</td>\n",
       "      <td>0.0</td>\n",
       "      <td>0.0</td>\n",
       "      <td>0.0</td>\n",
       "      <td>0.0</td>\n",
       "    </tr>\n",
       "    <tr>\n",
       "      <td>3</td>\n",
       "      <td>0.0</td>\n",
       "      <td>0.0</td>\n",
       "      <td>0.0</td>\n",
       "      <td>0.0</td>\n",
       "      <td>0.0</td>\n",
       "      <td>0.000000</td>\n",
       "      <td>0.0</td>\n",
       "      <td>0.0</td>\n",
       "      <td>0.0</td>\n",
       "      <td>0.0</td>\n",
       "      <td>...</td>\n",
       "      <td>0.0</td>\n",
       "      <td>0.0</td>\n",
       "      <td>0.0</td>\n",
       "      <td>0.0</td>\n",
       "      <td>0.0</td>\n",
       "      <td>0.0</td>\n",
       "      <td>0.0</td>\n",
       "      <td>0.0</td>\n",
       "      <td>0.0</td>\n",
       "      <td>0.0</td>\n",
       "    </tr>\n",
       "    <tr>\n",
       "      <td>4</td>\n",
       "      <td>0.0</td>\n",
       "      <td>0.0</td>\n",
       "      <td>0.0</td>\n",
       "      <td>0.0</td>\n",
       "      <td>0.0</td>\n",
       "      <td>0.000000</td>\n",
       "      <td>0.0</td>\n",
       "      <td>0.0</td>\n",
       "      <td>0.0</td>\n",
       "      <td>0.0</td>\n",
       "      <td>...</td>\n",
       "      <td>0.0</td>\n",
       "      <td>0.0</td>\n",
       "      <td>0.0</td>\n",
       "      <td>0.0</td>\n",
       "      <td>0.0</td>\n",
       "      <td>0.0</td>\n",
       "      <td>0.0</td>\n",
       "      <td>0.0</td>\n",
       "      <td>0.0</td>\n",
       "      <td>0.0</td>\n",
       "    </tr>\n",
       "    <tr>\n",
       "      <td>...</td>\n",
       "      <td>...</td>\n",
       "      <td>...</td>\n",
       "      <td>...</td>\n",
       "      <td>...</td>\n",
       "      <td>...</td>\n",
       "      <td>...</td>\n",
       "      <td>...</td>\n",
       "      <td>...</td>\n",
       "      <td>...</td>\n",
       "      <td>...</td>\n",
       "      <td>...</td>\n",
       "      <td>...</td>\n",
       "      <td>...</td>\n",
       "      <td>...</td>\n",
       "      <td>...</td>\n",
       "      <td>...</td>\n",
       "      <td>...</td>\n",
       "      <td>...</td>\n",
       "      <td>...</td>\n",
       "      <td>...</td>\n",
       "      <td>...</td>\n",
       "    </tr>\n",
       "    <tr>\n",
       "      <td>26704</td>\n",
       "      <td>0.0</td>\n",
       "      <td>0.0</td>\n",
       "      <td>0.0</td>\n",
       "      <td>0.0</td>\n",
       "      <td>0.0</td>\n",
       "      <td>0.000000</td>\n",
       "      <td>0.0</td>\n",
       "      <td>0.0</td>\n",
       "      <td>0.0</td>\n",
       "      <td>0.0</td>\n",
       "      <td>...</td>\n",
       "      <td>0.0</td>\n",
       "      <td>0.0</td>\n",
       "      <td>0.0</td>\n",
       "      <td>0.0</td>\n",
       "      <td>0.0</td>\n",
       "      <td>0.0</td>\n",
       "      <td>0.0</td>\n",
       "      <td>0.0</td>\n",
       "      <td>0.0</td>\n",
       "      <td>0.0</td>\n",
       "    </tr>\n",
       "    <tr>\n",
       "      <td>26705</td>\n",
       "      <td>0.0</td>\n",
       "      <td>0.0</td>\n",
       "      <td>0.0</td>\n",
       "      <td>0.0</td>\n",
       "      <td>0.0</td>\n",
       "      <td>0.000000</td>\n",
       "      <td>0.0</td>\n",
       "      <td>0.0</td>\n",
       "      <td>0.0</td>\n",
       "      <td>0.0</td>\n",
       "      <td>...</td>\n",
       "      <td>0.0</td>\n",
       "      <td>0.0</td>\n",
       "      <td>0.0</td>\n",
       "      <td>0.0</td>\n",
       "      <td>0.0</td>\n",
       "      <td>0.0</td>\n",
       "      <td>0.0</td>\n",
       "      <td>0.0</td>\n",
       "      <td>0.0</td>\n",
       "      <td>0.0</td>\n",
       "    </tr>\n",
       "    <tr>\n",
       "      <td>26706</td>\n",
       "      <td>0.0</td>\n",
       "      <td>0.0</td>\n",
       "      <td>0.0</td>\n",
       "      <td>0.0</td>\n",
       "      <td>0.0</td>\n",
       "      <td>0.000000</td>\n",
       "      <td>0.0</td>\n",
       "      <td>0.0</td>\n",
       "      <td>0.0</td>\n",
       "      <td>0.0</td>\n",
       "      <td>...</td>\n",
       "      <td>0.0</td>\n",
       "      <td>0.0</td>\n",
       "      <td>0.0</td>\n",
       "      <td>0.0</td>\n",
       "      <td>0.0</td>\n",
       "      <td>0.0</td>\n",
       "      <td>0.0</td>\n",
       "      <td>0.0</td>\n",
       "      <td>0.0</td>\n",
       "      <td>0.0</td>\n",
       "    </tr>\n",
       "    <tr>\n",
       "      <td>26707</td>\n",
       "      <td>0.0</td>\n",
       "      <td>0.0</td>\n",
       "      <td>0.0</td>\n",
       "      <td>0.0</td>\n",
       "      <td>0.0</td>\n",
       "      <td>0.445779</td>\n",
       "      <td>0.0</td>\n",
       "      <td>0.0</td>\n",
       "      <td>0.0</td>\n",
       "      <td>0.0</td>\n",
       "      <td>...</td>\n",
       "      <td>0.0</td>\n",
       "      <td>0.0</td>\n",
       "      <td>0.0</td>\n",
       "      <td>0.0</td>\n",
       "      <td>0.0</td>\n",
       "      <td>0.0</td>\n",
       "      <td>0.0</td>\n",
       "      <td>0.0</td>\n",
       "      <td>0.0</td>\n",
       "      <td>0.0</td>\n",
       "    </tr>\n",
       "    <tr>\n",
       "      <td>26708</td>\n",
       "      <td>0.0</td>\n",
       "      <td>0.0</td>\n",
       "      <td>0.0</td>\n",
       "      <td>0.0</td>\n",
       "      <td>0.0</td>\n",
       "      <td>0.000000</td>\n",
       "      <td>0.0</td>\n",
       "      <td>0.0</td>\n",
       "      <td>0.0</td>\n",
       "      <td>0.0</td>\n",
       "      <td>...</td>\n",
       "      <td>0.0</td>\n",
       "      <td>0.0</td>\n",
       "      <td>0.0</td>\n",
       "      <td>0.0</td>\n",
       "      <td>0.0</td>\n",
       "      <td>0.0</td>\n",
       "      <td>0.0</td>\n",
       "      <td>0.0</td>\n",
       "      <td>0.0</td>\n",
       "      <td>0.0</td>\n",
       "    </tr>\n",
       "  </tbody>\n",
       "</table>\n",
       "<p>26709 rows × 4216 columns</p>\n",
       "</div>"
      ],
      "text/plain": [
       "       abandoned  abc  ability  able  abortion    abroad  absence  absolutely  \\\n",
       "0            0.0  0.0      0.0   0.0       0.0  0.000000      0.0         0.0   \n",
       "1            0.0  0.0      0.0   0.0       0.0  0.000000      0.0         0.0   \n",
       "2            0.0  0.0      0.0   0.0       0.0  0.000000      0.0         0.0   \n",
       "3            0.0  0.0      0.0   0.0       0.0  0.000000      0.0         0.0   \n",
       "4            0.0  0.0      0.0   0.0       0.0  0.000000      0.0         0.0   \n",
       "...          ...  ...      ...   ...       ...       ...      ...         ...   \n",
       "26704        0.0  0.0      0.0   0.0       0.0  0.000000      0.0         0.0   \n",
       "26705        0.0  0.0      0.0   0.0       0.0  0.000000      0.0         0.0   \n",
       "26706        0.0  0.0      0.0   0.0       0.0  0.000000      0.0         0.0   \n",
       "26707        0.0  0.0      0.0   0.0       0.0  0.445779      0.0         0.0   \n",
       "26708        0.0  0.0      0.0   0.0       0.0  0.000000      0.0         0.0   \n",
       "\n",
       "       abuse  abused  ...  york times  young  younger  youth  youtube  zero  \\\n",
       "0        0.0     0.0  ...         0.0    0.0      0.0    0.0      0.0   0.0   \n",
       "1        0.0     0.0  ...         0.0    0.0      0.0    0.0      0.0   0.0   \n",
       "2        0.0     0.0  ...         0.0    0.0      0.0    0.0      0.0   0.0   \n",
       "3        0.0     0.0  ...         0.0    0.0      0.0    0.0      0.0   0.0   \n",
       "4        0.0     0.0  ...         0.0    0.0      0.0    0.0      0.0   0.0   \n",
       "...      ...     ...  ...         ...    ...      ...    ...      ...   ...   \n",
       "26704    0.0     0.0  ...         0.0    0.0      0.0    0.0      0.0   0.0   \n",
       "26705    0.0     0.0  ...         0.0    0.0      0.0    0.0      0.0   0.0   \n",
       "26706    0.0     0.0  ...         0.0    0.0      0.0    0.0      0.0   0.0   \n",
       "26707    0.0     0.0  ...         0.0    0.0      0.0    0.0      0.0   0.0   \n",
       "26708    0.0     0.0  ...         0.0    0.0      0.0    0.0      0.0   0.0   \n",
       "\n",
       "       zika  zone  zoo  zuckerberg  \n",
       "0       0.0   0.0  0.0         0.0  \n",
       "1       0.0   0.0  0.0         0.0  \n",
       "2       0.0   0.0  0.0         0.0  \n",
       "3       0.0   0.0  0.0         0.0  \n",
       "4       0.0   0.0  0.0         0.0  \n",
       "...     ...   ...  ...         ...  \n",
       "26704   0.0   0.0  0.0         0.0  \n",
       "26705   0.0   0.0  0.0         0.0  \n",
       "26706   0.0   0.0  0.0         0.0  \n",
       "26707   0.0   0.0  0.0         0.0  \n",
       "26708   0.0   0.0  0.0         0.0  \n",
       "\n",
       "[26709 rows x 4216 columns]"
      ]
     },
     "execution_count": 196,
     "metadata": {},
     "output_type": "execute_result"
    }
   ],
   "source": [
    "pd.DataFrame(X_train_sm.toarray(), columns=vect.get_feature_names())"
   ]
  },
  {
   "cell_type": "code",
   "execution_count": 197,
   "metadata": {},
   "outputs": [],
   "source": [
    "word_list = vect.get_feature_names();    \n",
    "count_list = X_train_sm.toarray().sum(axis=0) \n",
    "\n",
    "vocab =  dict(zip(word_list,count_list))\n",
    "vocab = pd.DataFrame.from_dict(vocab, orient='index',  columns=['Count'])\n",
    "vocab = vocab.sort_values(by='Count', ascending=False)"
   ]
  },
  {
   "cell_type": "code",
   "execution_count": 198,
   "metadata": {
    "scrolled": false
   },
   "outputs": [
    {
     "data": {
      "text/html": [
       "<div>\n",
       "<style scoped>\n",
       "    .dataframe tbody tr th:only-of-type {\n",
       "        vertical-align: middle;\n",
       "    }\n",
       "\n",
       "    .dataframe tbody tr th {\n",
       "        vertical-align: top;\n",
       "    }\n",
       "\n",
       "    .dataframe thead th {\n",
       "        text-align: right;\n",
       "    }\n",
       "</style>\n",
       "<table border=\"1\" class=\"dataframe\">\n",
       "  <thead>\n",
       "    <tr style=\"text-align: right;\">\n",
       "      <th></th>\n",
       "      <th>Count</th>\n",
       "    </tr>\n",
       "  </thead>\n",
       "  <tbody>\n",
       "    <tr>\n",
       "      <td>huffingtonpost</td>\n",
       "      <td>1654.900425</td>\n",
       "    </tr>\n",
       "    <tr>\n",
       "      <td>theonion</td>\n",
       "      <td>1025.857565</td>\n",
       "    </tr>\n",
       "    <tr>\n",
       "      <td>localtheonion</td>\n",
       "      <td>629.518782</td>\n",
       "    </tr>\n",
       "    <tr>\n",
       "      <td>politicstheonion</td>\n",
       "      <td>386.027738</td>\n",
       "    </tr>\n",
       "    <tr>\n",
       "      <td>trump</td>\n",
       "      <td>366.684698</td>\n",
       "    </tr>\n",
       "    <tr>\n",
       "      <td>new</td>\n",
       "      <td>352.773761</td>\n",
       "    </tr>\n",
       "    <tr>\n",
       "      <td>man</td>\n",
       "      <td>347.724744</td>\n",
       "    </tr>\n",
       "    <tr>\n",
       "      <td>entertainmenttheonion</td>\n",
       "      <td>327.823232</td>\n",
       "    </tr>\n",
       "    <tr>\n",
       "      <td>just</td>\n",
       "      <td>166.389611</td>\n",
       "    </tr>\n",
       "    <tr>\n",
       "      <td>area</td>\n",
       "      <td>160.474908</td>\n",
       "    </tr>\n",
       "    <tr>\n",
       "      <td>year</td>\n",
       "      <td>159.130514</td>\n",
       "    </tr>\n",
       "    <tr>\n",
       "      <td>report</td>\n",
       "      <td>158.345256</td>\n",
       "    </tr>\n",
       "    <tr>\n",
       "      <td>woman</td>\n",
       "      <td>153.354058</td>\n",
       "    </tr>\n",
       "    <tr>\n",
       "      <td>day</td>\n",
       "      <td>139.734662</td>\n",
       "    </tr>\n",
       "    <tr>\n",
       "      <td>time</td>\n",
       "      <td>137.764237</td>\n",
       "    </tr>\n",
       "  </tbody>\n",
       "</table>\n",
       "</div>"
      ],
      "text/plain": [
       "                             Count\n",
       "huffingtonpost         1654.900425\n",
       "theonion               1025.857565\n",
       "localtheonion           629.518782\n",
       "politicstheonion        386.027738\n",
       "trump                   366.684698\n",
       "new                     352.773761\n",
       "man                     347.724744\n",
       "entertainmenttheonion   327.823232\n",
       "just                    166.389611\n",
       "area                    160.474908\n",
       "year                    159.130514\n",
       "report                  158.345256\n",
       "woman                   153.354058\n",
       "day                     139.734662\n",
       "time                    137.764237"
      ]
     },
     "execution_count": 198,
     "metadata": {},
     "output_type": "execute_result"
    }
   ],
   "source": [
    "vocab.head(15)"
   ]
  },
  {
   "cell_type": "markdown",
   "metadata": {},
   "source": [
    "## Modelio kūrimas naudojant Logistic Regression\n"
   ]
  },
  {
   "cell_type": "code",
   "execution_count": 199,
   "metadata": {},
   "outputs": [],
   "source": [
    "from sklearn.linear_model import LogisticRegression\n",
    "model_lr = LogisticRegression(C=10)"
   ]
  },
  {
   "cell_type": "code",
   "execution_count": 200,
   "metadata": {},
   "outputs": [
    {
     "data": {
      "text/plain": [
       "LogisticRegression(C=10, class_weight=None, dual=False, fit_intercept=True,\n",
       "                   intercept_scaling=1, l1_ratio=None, max_iter=100,\n",
       "                   multi_class='auto', n_jobs=None, penalty='l2',\n",
       "                   random_state=None, solver='lbfgs', tol=0.0001, verbose=0,\n",
       "                   warm_start=False)"
      ]
     },
     "execution_count": 200,
     "metadata": {},
     "output_type": "execute_result"
    }
   ],
   "source": [
    "model_lr.fit(X_train_sm, y_train)"
   ]
  },
  {
   "cell_type": "code",
   "execution_count": 201,
   "metadata": {
    "scrolled": true
   },
   "outputs": [
    {
     "data": {
      "text/plain": [
       "0.9991963380970684"
      ]
     },
     "execution_count": 201,
     "metadata": {},
     "output_type": "execute_result"
    }
   ],
   "source": [
    "y_pred_class_lr = model_lr.predict(X_test_sm)\n",
    "metrics.accuracy_score(y_test, y_pred_class_lr)"
   ]
  },
  {
   "cell_type": "code",
   "execution_count": 202,
   "metadata": {},
   "outputs": [],
   "source": [
    "X_train_tokens_lr = vect.get_feature_names()\n",
    "abs_weights = np.abs(model_lr.coef_)[0, :]"
   ]
  },
  {
   "cell_type": "code",
   "execution_count": 203,
   "metadata": {},
   "outputs": [],
   "source": [
    "tokens_lr = pd.DataFrame({'token':X_train_tokens_lr, 'Feature_Importance':abs_weights}).set_index('token')\n",
    "tokens_lr = tokens_lr.sort_values(by=['Feature_Importance'], ascending = False)"
   ]
  },
  {
   "cell_type": "code",
   "execution_count": 204,
   "metadata": {
    "scrolled": false
   },
   "outputs": [
    {
     "data": {
      "text/html": [
       "<div>\n",
       "<style scoped>\n",
       "    .dataframe tbody tr th:only-of-type {\n",
       "        vertical-align: middle;\n",
       "    }\n",
       "\n",
       "    .dataframe tbody tr th {\n",
       "        vertical-align: top;\n",
       "    }\n",
       "\n",
       "    .dataframe thead th {\n",
       "        text-align: right;\n",
       "    }\n",
       "</style>\n",
       "<table border=\"1\" class=\"dataframe\">\n",
       "  <thead>\n",
       "    <tr style=\"text-align: right;\">\n",
       "      <th></th>\n",
       "      <th>Feature_Importance</th>\n",
       "    </tr>\n",
       "    <tr>\n",
       "      <th>token</th>\n",
       "      <th></th>\n",
       "    </tr>\n",
       "  </thead>\n",
       "  <tbody>\n",
       "    <tr>\n",
       "      <td>huffingtonpost</td>\n",
       "      <td>46.276994</td>\n",
       "    </tr>\n",
       "    <tr>\n",
       "      <td>theonion</td>\n",
       "      <td>40.423871</td>\n",
       "    </tr>\n",
       "    <tr>\n",
       "      <td>localtheonion</td>\n",
       "      <td>29.036843</td>\n",
       "    </tr>\n",
       "    <tr>\n",
       "      <td>politicstheonion</td>\n",
       "      <td>28.882320</td>\n",
       "    </tr>\n",
       "    <tr>\n",
       "      <td>entertainmenttheonion</td>\n",
       "      <td>23.202955</td>\n",
       "    </tr>\n",
       "    <tr>\n",
       "      <td>...</td>\n",
       "      <td>...</td>\n",
       "    </tr>\n",
       "    <tr>\n",
       "      <td>nasty</td>\n",
       "      <td>0.000609</td>\n",
       "    </tr>\n",
       "    <tr>\n",
       "      <td>airlines</td>\n",
       "      <td>0.000436</td>\n",
       "    </tr>\n",
       "    <tr>\n",
       "      <td>jennifer lawrence</td>\n",
       "      <td>0.000277</td>\n",
       "    </tr>\n",
       "    <tr>\n",
       "      <td>commercials</td>\n",
       "      <td>0.000210</td>\n",
       "    </tr>\n",
       "    <tr>\n",
       "      <td>storm</td>\n",
       "      <td>0.000193</td>\n",
       "    </tr>\n",
       "  </tbody>\n",
       "</table>\n",
       "<p>4216 rows × 1 columns</p>\n",
       "</div>"
      ],
      "text/plain": [
       "                       Feature_Importance\n",
       "token                                    \n",
       "huffingtonpost                  46.276994\n",
       "theonion                        40.423871\n",
       "localtheonion                   29.036843\n",
       "politicstheonion                28.882320\n",
       "entertainmenttheonion           23.202955\n",
       "...                                   ...\n",
       "nasty                            0.000609\n",
       "airlines                         0.000436\n",
       "jennifer lawrence                0.000277\n",
       "commercials                      0.000210\n",
       "storm                            0.000193\n",
       "\n",
       "[4216 rows x 1 columns]"
      ]
     },
     "execution_count": 204,
     "metadata": {},
     "output_type": "execute_result"
    }
   ],
   "source": [
    "tokens_lr"
   ]
  },
  {
   "cell_type": "code",
   "execution_count": 205,
   "metadata": {
    "scrolled": true
   },
   "outputs": [
    {
     "data": {
      "text/plain": [
       "<Figure size 1080x720 with 0 Axes>"
      ]
     },
     "execution_count": 205,
     "metadata": {},
     "output_type": "execute_result"
    },
    {
     "data": {
      "image/png": "[encoded data removed]",
      "text/plain": [
       "<Figure size 432x288 with 1 Axes>"
      ]
     },
     "metadata": {},
     "output_type": "display_data"
    },
    {
     "data": {
      "text/plain": [
       "<Figure size 1080x720 with 0 Axes>"
      ]
     },
     "metadata": {},
     "output_type": "display_data"
    }
   ],
   "source": [
    "sn.barplot(x= tokens_lr.index[:20], y=tokens_lr.Feature_Importance[:20], data=tokens_lr)\n",
    "plt.xticks(rotation=90)\n",
    "plt.figure(figsize=(15,10))"
   ]
  },
  {
   "cell_type": "markdown",
   "metadata": {},
   "source": [
    "## Modelio kūrimas naudojant Random Forest"
   ]
  },
  {
   "cell_type": "code",
   "execution_count": 206,
   "metadata": {},
   "outputs": [],
   "source": [
    "from sklearn.ensemble import RandomForestClassifier\n",
    "from sklearn.model_selection import GridSearchCV"
   ]
  },
  {
   "cell_type": "code",
   "execution_count": 207,
   "metadata": {},
   "outputs": [
    {
     "data": {
      "text/plain": [
       "GridSearchCV(cv=10, error_score=nan,\n",
       "             estimator=RandomForestClassifier(bootstrap=True, ccp_alpha=0.0,\n",
       "                                              class_weight=None,\n",
       "                                              criterion='gini', max_depth=None,\n",
       "                                              max_features='auto',\n",
       "                                              max_leaf_nodes=None,\n",
       "                                              max_samples=None,\n",
       "                                              min_impurity_decrease=0.0,\n",
       "                                              min_impurity_split=None,\n",
       "                                              min_samples_leaf=1,\n",
       "                                              min_samples_split=2,\n",
       "                                              min_weight_fraction_leaf=0.0,\n",
       "                                              n_estimators=100, n_jobs=None,\n",
       "                                              oob_score=False,\n",
       "                                              random_state=None, verbose=0,\n",
       "                                              warm_start=False),\n",
       "             iid='deprecated', n_jobs=-1,\n",
       "             param_grid={'max_depth': [2, 3, 4, 5, 6, 7, 8, 9, 10, 11, 12, 13,\n",
       "                                       14, 15, 16, 17, 18, 19, 20],\n",
       "                         'min_samples_split': [2, 3, 4, 5, 6, 7, 8, 9, 10, 11,\n",
       "                                               12, 13, 14, 15, 16, 17, 18, 19,\n",
       "                                               20]},\n",
       "             pre_dispatch='2*n_jobs', refit=True, return_train_score=False,\n",
       "             scoring='accuracy', verbose=0)"
      ]
     },
     "execution_count": 207,
     "metadata": {},
     "output_type": "execute_result"
    }
   ],
   "source": [
    "model_rf = RandomForestClassifier()\n",
    "i_range = list(range(2, 21))\n",
    "param_grid_rf = dict(max_depth = i_range, min_samples_split = i_range)\n",
    "grid_rf = GridSearchCV(model_rf, param_grid_rf, cv=10, scoring='accuracy', return_train_score=False, n_jobs = -1)\n",
    "grid_rf.fit(X_train_sm, y_train)"
   ]
  },
  {
   "cell_type": "code",
   "execution_count": 208,
   "metadata": {
    "scrolled": true
   },
   "outputs": [
    {
     "name": "stdout",
     "output_type": "stream",
     "text": [
      "0.9990640069437726\n",
      "{'max_depth': 16, 'min_samples_split': 3}\n",
      "RandomForestClassifier(bootstrap=True, ccp_alpha=0.0, class_weight=None,\n",
      "                       criterion='gini', max_depth=16, max_features='auto',\n",
      "                       max_leaf_nodes=None, max_samples=None,\n",
      "                       min_impurity_decrease=0.0, min_impurity_split=None,\n",
      "                       min_samples_leaf=1, min_samples_split=3,\n",
      "                       min_weight_fraction_leaf=0.0, n_estimators=100,\n",
      "                       n_jobs=None, oob_score=False, random_state=None,\n",
      "                       verbose=0, warm_start=False)\n"
     ]
    }
   ],
   "source": [
    "print(grid_rf.best_score_)\n",
    "print(grid_rf.best_params_)\n",
    "print(grid_rf.best_estimator_)"
   ]
  },
  {
   "cell_type": "code",
   "execution_count": 209,
   "metadata": {},
   "outputs": [],
   "source": [
    "model_rf = RandomForestClassifier(max_depth = 20, min_samples_split = 6)"
   ]
  },
  {
   "cell_type": "code",
   "execution_count": 210,
   "metadata": {},
   "outputs": [
    {
     "data": {
      "text/plain": [
       "RandomForestClassifier(bootstrap=True, ccp_alpha=0.0, class_weight=None,\n",
       "                       criterion='gini', max_depth=20, max_features='auto',\n",
       "                       max_leaf_nodes=None, max_samples=None,\n",
       "                       min_impurity_decrease=0.0, min_impurity_split=None,\n",
       "                       min_samples_leaf=1, min_samples_split=6,\n",
       "                       min_weight_fraction_leaf=0.0, n_estimators=100,\n",
       "                       n_jobs=None, oob_score=False, random_state=None,\n",
       "                       verbose=0, warm_start=False)"
      ]
     },
     "execution_count": 210,
     "metadata": {},
     "output_type": "execute_result"
    }
   ],
   "source": [
    "model_rf.fit(X_train_sm, y_train)"
   ]
  },
  {
   "cell_type": "code",
   "execution_count": 211,
   "metadata": {},
   "outputs": [
    {
     "data": {
      "text/plain": [
       "0.9911946608896188"
      ]
     },
     "execution_count": 211,
     "metadata": {},
     "output_type": "execute_result"
    }
   ],
   "source": [
    "y_pred_class_rf = model_rf.predict(X_test_sm)\n",
    "metrics.accuracy_score(y_test, y_pred_class_rf)"
   ]
  },
  {
   "cell_type": "code",
   "execution_count": 212,
   "metadata": {
    "scrolled": true
   },
   "outputs": [
    {
     "data": {
      "text/plain": [
       "array([1.07477716e-06, 2.53136146e-05, 1.79875099e-05, ...,\n",
       "       0.00000000e+00, 3.10607293e-09, 2.01709350e-05])"
      ]
     },
     "execution_count": 212,
     "metadata": {},
     "output_type": "execute_result"
    }
   ],
   "source": [
    "X_train_tokens_rf = vect.get_feature_names()\n",
    "model_rf.feature_importances_"
   ]
  },
  {
   "cell_type": "code",
   "execution_count": 213,
   "metadata": {},
   "outputs": [
    {
     "data": {
      "text/html": [
       "<div>\n",
       "<style scoped>\n",
       "    .dataframe tbody tr th:only-of-type {\n",
       "        vertical-align: middle;\n",
       "    }\n",
       "\n",
       "    .dataframe tbody tr th {\n",
       "        vertical-align: top;\n",
       "    }\n",
       "\n",
       "    .dataframe thead th {\n",
       "        text-align: right;\n",
       "    }\n",
       "</style>\n",
       "<table border=\"1\" class=\"dataframe\">\n",
       "  <thead>\n",
       "    <tr style=\"text-align: right;\">\n",
       "      <th></th>\n",
       "      <th>Feature_Importance</th>\n",
       "    </tr>\n",
       "    <tr>\n",
       "      <th>token</th>\n",
       "      <th></th>\n",
       "    </tr>\n",
       "  </thead>\n",
       "  <tbody>\n",
       "    <tr>\n",
       "      <td>huffingtonpost</td>\n",
       "      <td>0.348867</td>\n",
       "    </tr>\n",
       "    <tr>\n",
       "      <td>theonion</td>\n",
       "      <td>0.113299</td>\n",
       "    </tr>\n",
       "    <tr>\n",
       "      <td>localtheonion</td>\n",
       "      <td>0.080035</td>\n",
       "    </tr>\n",
       "    <tr>\n",
       "      <td>politicstheonion</td>\n",
       "      <td>0.063987</td>\n",
       "    </tr>\n",
       "    <tr>\n",
       "      <td>entertainmenttheonion</td>\n",
       "      <td>0.061114</td>\n",
       "    </tr>\n",
       "    <tr>\n",
       "      <td>trump</td>\n",
       "      <td>0.024553</td>\n",
       "    </tr>\n",
       "    <tr>\n",
       "      <td>area</td>\n",
       "      <td>0.023232</td>\n",
       "    </tr>\n",
       "    <tr>\n",
       "      <td>nation</td>\n",
       "      <td>0.015616</td>\n",
       "    </tr>\n",
       "    <tr>\n",
       "      <td>man</td>\n",
       "      <td>0.014690</td>\n",
       "    </tr>\n",
       "    <tr>\n",
       "      <td>swear_word</td>\n",
       "      <td>0.010612</td>\n",
       "    </tr>\n",
       "    <tr>\n",
       "      <td>donald trump</td>\n",
       "      <td>0.010265</td>\n",
       "    </tr>\n",
       "    <tr>\n",
       "      <td>report</td>\n",
       "      <td>0.009720</td>\n",
       "    </tr>\n",
       "    <tr>\n",
       "      <td>area man</td>\n",
       "      <td>0.009215</td>\n",
       "    </tr>\n",
       "    <tr>\n",
       "      <td>study</td>\n",
       "      <td>0.007665</td>\n",
       "    </tr>\n",
       "    <tr>\n",
       "      <td>local</td>\n",
       "      <td>0.005337</td>\n",
       "    </tr>\n",
       "    <tr>\n",
       "      <td>introduces</td>\n",
       "      <td>0.004502</td>\n",
       "    </tr>\n",
       "    <tr>\n",
       "      <td>sportstheonion</td>\n",
       "      <td>0.003627</td>\n",
       "    </tr>\n",
       "    <tr>\n",
       "      <td>need</td>\n",
       "      <td>0.003362</td>\n",
       "    </tr>\n",
       "    <tr>\n",
       "      <td>gop</td>\n",
       "      <td>0.003278</td>\n",
       "    </tr>\n",
       "    <tr>\n",
       "      <td>old</td>\n",
       "      <td>0.003214</td>\n",
       "    </tr>\n",
       "  </tbody>\n",
       "</table>\n",
       "</div>"
      ],
      "text/plain": [
       "                       Feature_Importance\n",
       "token                                    \n",
       "huffingtonpost                   0.348867\n",
       "theonion                         0.113299\n",
       "localtheonion                    0.080035\n",
       "politicstheonion                 0.063987\n",
       "entertainmenttheonion            0.061114\n",
       "trump                            0.024553\n",
       "area                             0.023232\n",
       "nation                           0.015616\n",
       "man                              0.014690\n",
       "swear_word                       0.010612\n",
       "donald trump                     0.010265\n",
       "report                           0.009720\n",
       "area man                         0.009215\n",
       "study                            0.007665\n",
       "local                            0.005337\n",
       "introduces                       0.004502\n",
       "sportstheonion                   0.003627\n",
       "need                             0.003362\n",
       "gop                              0.003278\n",
       "old                              0.003214"
      ]
     },
     "execution_count": 213,
     "metadata": {},
     "output_type": "execute_result"
    }
   ],
   "source": [
    "tokens_rf = pd.DataFrame({'token':X_train_tokens_rf, 'Feature_Importance':model_rf.feature_importances_}).set_index('token')\n",
    "tokens_rf = tokens_rf.sort_values(by=['Feature_Importance'], ascending = False)\n",
    "\n",
    "tokens_rf.head(20)"
   ]
  },
  {
   "cell_type": "code",
   "execution_count": 214,
   "metadata": {},
   "outputs": [
    {
     "data": {
      "text/plain": [
       "<Figure size 1080x720 with 0 Axes>"
      ]
     },
     "execution_count": 214,
     "metadata": {},
     "output_type": "execute_result"
    },
    {
     "data": {
      "image/png": "[encoded data removed]",
      "text/plain": [
       "<Figure size 432x288 with 1 Axes>"
      ]
     },
     "metadata": {},
     "output_type": "display_data"
    },
    {
     "data": {
      "text/plain": [
       "<Figure size 1080x720 with 0 Axes>"
      ]
     },
     "metadata": {},
     "output_type": "display_data"
    }
   ],
   "source": [
    "sn.barplot(x= tokens_rf.index[:20], y=tokens_rf.Feature_Importance[:20], data=tokens_rf)\n",
    "plt.xticks(rotation=90)\n",
    "plt.figure(figsize=(15,10))"
   ]
  },
  {
   "cell_type": "markdown",
   "metadata": {},
   "source": [
    "## Modelio kūrimas naudojant Naive Bayes: MultinomialNB()"
   ]
  },
  {
   "cell_type": "code",
   "execution_count": 215,
   "metadata": {},
   "outputs": [],
   "source": [
    "from sklearn.naive_bayes import MultinomialNB"
   ]
  },
  {
   "cell_type": "code",
   "execution_count": 216,
   "metadata": {},
   "outputs": [],
   "source": [
    "model = MultinomialNB(alpha=0.01)"
   ]
  },
  {
   "cell_type": "code",
   "execution_count": 217,
   "metadata": {},
   "outputs": [
    {
     "data": {
      "text/plain": [
       "MultinomialNB(alpha=0.01, class_prior=None, fit_prior=True)"
      ]
     },
     "execution_count": 217,
     "metadata": {},
     "output_type": "execute_result"
    }
   ],
   "source": [
    "model.fit(X_train_sm, y_train)"
   ]
  },
  {
   "cell_type": "code",
   "execution_count": 218,
   "metadata": {},
   "outputs": [],
   "source": [
    "y_pred_class = model.predict(X_test_sm)"
   ]
  },
  {
   "cell_type": "code",
   "execution_count": 219,
   "metadata": {},
   "outputs": [
    {
     "data": {
      "text/plain": [
       "0.9867570495125616"
      ]
     },
     "execution_count": 219,
     "metadata": {},
     "output_type": "execute_result"
    }
   ],
   "source": [
    "metrics.accuracy_score(y_test, y_pred_class)"
   ]
  },
  {
   "cell_type": "markdown",
   "metadata": {},
   "source": [
    "## Rezultatų analizė remiantis MultinomialNB() modelio rezultatais"
   ]
  },
  {
   "cell_type": "markdown",
   "metadata": {},
   "source": [
    "### Confusion matrix"
   ]
  },
  {
   "cell_type": "code",
   "execution_count": 220,
   "metadata": {
    "scrolled": true
   },
   "outputs": [
    {
     "data": {
      "text/plain": [
       "array([[14844,   141],\n",
       "       [  238, 13396]], dtype=int64)"
      ]
     },
     "execution_count": 220,
     "metadata": {},
     "output_type": "execute_result"
    }
   ],
   "source": [
    "metrics.confusion_matrix(y_test, y_pred_class)"
   ]
  },
  {
   "cell_type": "markdown",
   "metadata": {},
   "source": [
    "### False Positives / False Negatives"
   ]
  },
  {
   "cell_type": "code",
   "execution_count": 221,
   "metadata": {
    "scrolled": true
   },
   "outputs": [
    {
     "data": {
      "text/plain": [
       "101      study finds american diets are poor (but impro...\n",
       "102      after decades of effort, chemists overseas rep...\n",
       "205      to the obese woman crying at the picnic table ...\n",
       "308      death of mentally ill woman in police custody ...\n",
       "377      fda approves nasal-spray version of overdose d...\n",
       "                               ...                        \n",
       "27024    alec confidential: inside the secretive group'...\n",
       "27175    gladys knight sues to remove name from chicken...\n",
       "27531    after learning about homelessness, kind toddle...\n",
       "27551    detroit-area residents demand clean air huffin...\n",
       "27926    bassnectar debuts two new hard-hitting tracks,...\n",
       "Name: headline, Length: 141, dtype: object"
      ]
     },
     "execution_count": 221,
     "metadata": {},
     "output_type": "execute_result"
    }
   ],
   "source": [
    "# false positives (standartinės antraštės neteisingai identifikuojamos kaip sarkastiškos)\n",
    "X_test[y_test < y_pred_class]"
   ]
  },
  {
   "cell_type": "code",
   "execution_count": 222,
   "metadata": {},
   "outputs": [
    {
     "data": {
      "text/plain": [
       "'study finds american diets are poor (but improving!) huffingtonpost'"
      ]
     },
     "execution_count": 222,
     "metadata": {},
     "output_type": "execute_result"
    }
   ],
   "source": [
    "X_test[101]"
   ]
  },
  {
   "cell_type": "code",
   "execution_count": 223,
   "metadata": {},
   "outputs": [
    {
     "data": {
      "text/plain": [
       "347      global-warming crisis makes for delightful mid...\n",
       "486      jimmy fallon six tantalizing months from disap...\n",
       "581      inconsolable sarah palin opens up about sacha ...\n",
       "638      new instant lottery game features three ways t...\n",
       "716      putin condemns ukrainian people's unprovoked ,...\n",
       "                               ...                        \n",
       "27910    cop who shot unarmed black man let off with a ...\n",
       "27930    hollywood diet secrets fall into non-celebrity...\n",
       "28234    no-makeup look easier to achieve than elle cla...\n",
       "28367    father-in-law think tank issues comprehensive ...\n",
       "28434    taliban agrees to peace deal despite concerns ...\n",
       "Name: headline, Length: 238, dtype: object"
      ]
     },
     "execution_count": 223,
     "metadata": {},
     "output_type": "execute_result"
    }
   ],
   "source": [
    "# false negatives (sarkastiškos antraštės neteisingai identifikuojamos kaip standartinės)\n",
    "X_test[y_test > y_pred_class]"
   ]
  },
  {
   "cell_type": "code",
   "execution_count": 224,
   "metadata": {},
   "outputs": [
    {
     "data": {
      "text/plain": [
       "'global-warming crisis makes for delightful mid-february afternoon theonion'"
      ]
     },
     "execution_count": 224,
     "metadata": {},
     "output_type": "execute_result"
    }
   ],
   "source": [
    "X_test[347]"
   ]
  },
  {
   "cell_type": "markdown",
   "metadata": {},
   "source": [
    "### Sarcasm ratio in different words"
   ]
  },
  {
   "cell_type": "code",
   "execution_count": 225,
   "metadata": {},
   "outputs": [],
   "source": [
    "X_train_tokens = vect.get_feature_names()"
   ]
  },
  {
   "cell_type": "code",
   "execution_count": 226,
   "metadata": {},
   "outputs": [
    {
     "name": "stdout",
     "output_type": "stream",
     "text": [
      "['abandoned', 'abc', 'ability', 'able', 'abortion', 'abroad', 'absence', 'absolutely', 'abuse', 'abused', 'abusive', 'academy', 'accept', 'acceptance', 'accepting', 'accepts', 'access', 'accident', 'accidentally', 'according', 'account', 'accusations', 'accused', 'accuses', 'acquires', 'act', 'acting', 'acting like', 'action', 'activist', 'activists', 'actor', 'actors', 'actress', 'actual', 'actually', 'ad', 'ad huffingtonpost', 'adam', 'add', 'added', 'addiction', 'address', 'adds', 'adele', 'administration', 'admit', 'admits', 'adorable', 'ads']\n"
     ]
    }
   ],
   "source": [
    "print(X_train_tokens[0:50])"
   ]
  },
  {
   "cell_type": "code",
   "execution_count": 227,
   "metadata": {
    "scrolled": true
   },
   "outputs": [
    {
     "data": {
      "text/plain": [
       "array([[4.83092847, 3.9066042 , 1.924182  , ..., 3.88694424, 2.45450549,\n",
       "        3.75873655],\n",
       "       [2.32852624, 1.92555452, 4.26382144, ..., 4.57648396, 9.06628516,\n",
       "        4.35841063]])"
      ]
     },
     "execution_count": 227,
     "metadata": {},
     "output_type": "execute_result"
    }
   ],
   "source": [
    "model.feature_count_"
   ]
  },
  {
   "cell_type": "code",
   "execution_count": 228,
   "metadata": {},
   "outputs": [],
   "source": [
    "non_sarcastic_token_count = model.feature_count_[0, :]\n",
    "sarcastric_token_count = model.feature_count_[1, :]"
   ]
  },
  {
   "cell_type": "code",
   "execution_count": 229,
   "metadata": {
    "scrolled": true
   },
   "outputs": [
    {
     "data": {
      "text/html": [
       "<div>\n",
       "<style scoped>\n",
       "    .dataframe tbody tr th:only-of-type {\n",
       "        vertical-align: middle;\n",
       "    }\n",
       "\n",
       "    .dataframe tbody tr th {\n",
       "        vertical-align: top;\n",
       "    }\n",
       "\n",
       "    .dataframe thead th {\n",
       "        text-align: right;\n",
       "    }\n",
       "</style>\n",
       "<table border=\"1\" class=\"dataframe\">\n",
       "  <thead>\n",
       "    <tr style=\"text-align: right;\">\n",
       "      <th></th>\n",
       "      <th>Not-Sarcastic</th>\n",
       "      <th>Sarcastic</th>\n",
       "    </tr>\n",
       "    <tr>\n",
       "      <th>token</th>\n",
       "      <th></th>\n",
       "      <th></th>\n",
       "    </tr>\n",
       "  </thead>\n",
       "  <tbody>\n",
       "    <tr>\n",
       "      <td>abandoned</td>\n",
       "      <td>4.830928</td>\n",
       "      <td>2.328526</td>\n",
       "    </tr>\n",
       "    <tr>\n",
       "      <td>abc</td>\n",
       "      <td>3.906604</td>\n",
       "      <td>1.925555</td>\n",
       "    </tr>\n",
       "    <tr>\n",
       "      <td>ability</td>\n",
       "      <td>1.924182</td>\n",
       "      <td>4.263821</td>\n",
       "    </tr>\n",
       "    <tr>\n",
       "      <td>able</td>\n",
       "      <td>2.765260</td>\n",
       "      <td>7.170922</td>\n",
       "    </tr>\n",
       "    <tr>\n",
       "      <td>abortion</td>\n",
       "      <td>18.525555</td>\n",
       "      <td>5.758625</td>\n",
       "    </tr>\n",
       "    <tr>\n",
       "      <td>abroad</td>\n",
       "      <td>5.255115</td>\n",
       "      <td>0.865525</td>\n",
       "    </tr>\n",
       "    <tr>\n",
       "      <td>absence</td>\n",
       "      <td>2.937641</td>\n",
       "      <td>2.685370</td>\n",
       "    </tr>\n",
       "    <tr>\n",
       "      <td>absolutely</td>\n",
       "      <td>6.227233</td>\n",
       "      <td>7.088822</td>\n",
       "    </tr>\n",
       "    <tr>\n",
       "      <td>abuse</td>\n",
       "      <td>15.482278</td>\n",
       "      <td>2.159456</td>\n",
       "    </tr>\n",
       "    <tr>\n",
       "      <td>abused</td>\n",
       "      <td>4.621753</td>\n",
       "      <td>0.617273</td>\n",
       "    </tr>\n",
       "  </tbody>\n",
       "</table>\n",
       "</div>"
      ],
      "text/plain": [
       "            Not-Sarcastic  Sarcastic\n",
       "token                               \n",
       "abandoned        4.830928   2.328526\n",
       "abc              3.906604   1.925555\n",
       "ability          1.924182   4.263821\n",
       "able             2.765260   7.170922\n",
       "abortion        18.525555   5.758625\n",
       "abroad           5.255115   0.865525\n",
       "absence          2.937641   2.685370\n",
       "absolutely       6.227233   7.088822\n",
       "abuse           15.482278   2.159456\n",
       "abused           4.621753   0.617273"
      ]
     },
     "execution_count": 229,
     "metadata": {},
     "output_type": "execute_result"
    }
   ],
   "source": [
    "tokens = pd.DataFrame({'token':X_train_tokens, 'Not-Sarcastic':non_sarcastic_token_count, 'Sarcastic':sarcastric_token_count}).set_index('token')\n",
    "tokens.head(10)"
   ]
  },
  {
   "cell_type": "code",
   "execution_count": 230,
   "metadata": {},
   "outputs": [],
   "source": [
    "tokens['Not-Sarcastic'] = tokens['Not-Sarcastic'] + 1\n",
    "tokens['Sarcastic'] = tokens['Sarcastic'] + 1"
   ]
  },
  {
   "cell_type": "code",
   "execution_count": 231,
   "metadata": {},
   "outputs": [
    {
     "data": {
      "text/html": [
       "<div>\n",
       "<style scoped>\n",
       "    .dataframe tbody tr th:only-of-type {\n",
       "        vertical-align: middle;\n",
       "    }\n",
       "\n",
       "    .dataframe tbody tr th {\n",
       "        vertical-align: top;\n",
       "    }\n",
       "\n",
       "    .dataframe thead th {\n",
       "        text-align: right;\n",
       "    }\n",
       "</style>\n",
       "<table border=\"1\" class=\"dataframe\">\n",
       "  <thead>\n",
       "    <tr style=\"text-align: right;\">\n",
       "      <th></th>\n",
       "      <th>Not-Sarcastic</th>\n",
       "      <th>Sarcastic</th>\n",
       "    </tr>\n",
       "    <tr>\n",
       "      <th>token</th>\n",
       "      <th></th>\n",
       "      <th></th>\n",
       "    </tr>\n",
       "  </thead>\n",
       "  <tbody>\n",
       "    <tr>\n",
       "      <td>continue</td>\n",
       "      <td>0.000468</td>\n",
       "      <td>0.000649</td>\n",
       "    </tr>\n",
       "    <tr>\n",
       "      <td>trapped</td>\n",
       "      <td>0.000356</td>\n",
       "      <td>0.000438</td>\n",
       "    </tr>\n",
       "    <tr>\n",
       "      <td>shell</td>\n",
       "      <td>0.000264</td>\n",
       "      <td>0.000311</td>\n",
       "    </tr>\n",
       "    <tr>\n",
       "      <td>subway</td>\n",
       "      <td>0.000409</td>\n",
       "      <td>0.000835</td>\n",
       "    </tr>\n",
       "    <tr>\n",
       "      <td>decide</td>\n",
       "      <td>0.000397</td>\n",
       "      <td>0.000418</td>\n",
       "    </tr>\n",
       "    <tr>\n",
       "      <td>man accused</td>\n",
       "      <td>0.000376</td>\n",
       "      <td>0.000085</td>\n",
       "    </tr>\n",
       "    <tr>\n",
       "      <td>exercise</td>\n",
       "      <td>0.000407</td>\n",
       "      <td>0.000389</td>\n",
       "    </tr>\n",
       "    <tr>\n",
       "      <td>debates</td>\n",
       "      <td>0.000298</td>\n",
       "      <td>0.000336</td>\n",
       "    </tr>\n",
       "    <tr>\n",
       "      <td>lady</td>\n",
       "      <td>0.000727</td>\n",
       "      <td>0.000596</td>\n",
       "    </tr>\n",
       "    <tr>\n",
       "      <td>movie</td>\n",
       "      <td>0.001220</td>\n",
       "      <td>0.002408</td>\n",
       "    </tr>\n",
       "  </tbody>\n",
       "</table>\n",
       "</div>"
      ],
      "text/plain": [
       "             Not-Sarcastic  Sarcastic\n",
       "token                                \n",
       "continue          0.000468   0.000649\n",
       "trapped           0.000356   0.000438\n",
       "shell             0.000264   0.000311\n",
       "subway            0.000409   0.000835\n",
       "decide            0.000397   0.000418\n",
       "man accused       0.000376   0.000085\n",
       "exercise          0.000407   0.000389\n",
       "debates           0.000298   0.000336\n",
       "lady              0.000727   0.000596\n",
       "movie             0.001220   0.002408"
      ]
     },
     "execution_count": 231,
     "metadata": {},
     "output_type": "execute_result"
    }
   ],
   "source": [
    "tokens['Not-Sarcastic'] = tokens['Not-Sarcastic'] / model.class_count_[0]\n",
    "tokens['Sarcastic'] = tokens['Sarcastic'] / model.class_count_[1]\n",
    "tokens.sample(10)"
   ]
  },
  {
   "cell_type": "code",
   "execution_count": 232,
   "metadata": {
    "scrolled": false
   },
   "outputs": [
    {
     "data": {
      "text/html": [
       "<div>\n",
       "<style scoped>\n",
       "    .dataframe tbody tr th:only-of-type {\n",
       "        vertical-align: middle;\n",
       "    }\n",
       "\n",
       "    .dataframe tbody tr th {\n",
       "        vertical-align: top;\n",
       "    }\n",
       "\n",
       "    .dataframe thead th {\n",
       "        text-align: right;\n",
       "    }\n",
       "</style>\n",
       "<table border=\"1\" class=\"dataframe\">\n",
       "  <thead>\n",
       "    <tr style=\"text-align: right;\">\n",
       "      <th></th>\n",
       "      <th>Not-Sarcastic</th>\n",
       "      <th>Sarcastic</th>\n",
       "      <th>sarcasm_ratio</th>\n",
       "    </tr>\n",
       "    <tr>\n",
       "      <th>token</th>\n",
       "      <th></th>\n",
       "      <th></th>\n",
       "      <th></th>\n",
       "    </tr>\n",
       "  </thead>\n",
       "  <tbody>\n",
       "    <tr>\n",
       "      <td>dunham</td>\n",
       "      <td>0.000476</td>\n",
       "      <td>0.000147</td>\n",
       "      <td>0.308794</td>\n",
       "    </tr>\n",
       "    <tr>\n",
       "      <td>lawyer</td>\n",
       "      <td>0.000678</td>\n",
       "      <td>0.000358</td>\n",
       "      <td>0.528553</td>\n",
       "    </tr>\n",
       "    <tr>\n",
       "      <td>subway</td>\n",
       "      <td>0.000409</td>\n",
       "      <td>0.000835</td>\n",
       "      <td>2.042891</td>\n",
       "    </tr>\n",
       "    <tr>\n",
       "      <td>records</td>\n",
       "      <td>0.000421</td>\n",
       "      <td>0.000271</td>\n",
       "      <td>0.642574</td>\n",
       "    </tr>\n",
       "    <tr>\n",
       "      <td>conservatives</td>\n",
       "      <td>0.000724</td>\n",
       "      <td>0.000085</td>\n",
       "      <td>0.117741</td>\n",
       "    </tr>\n",
       "    <tr>\n",
       "      <td>considering</td>\n",
       "      <td>0.000271</td>\n",
       "      <td>0.000444</td>\n",
       "      <td>1.640806</td>\n",
       "    </tr>\n",
       "    <tr>\n",
       "      <td>partner</td>\n",
       "      <td>0.000364</td>\n",
       "      <td>0.000502</td>\n",
       "      <td>1.380315</td>\n",
       "    </tr>\n",
       "    <tr>\n",
       "      <td>park</td>\n",
       "      <td>0.000393</td>\n",
       "      <td>0.001297</td>\n",
       "      <td>3.297516</td>\n",
       "    </tr>\n",
       "    <tr>\n",
       "      <td>new evidence</td>\n",
       "      <td>0.000094</td>\n",
       "      <td>0.000440</td>\n",
       "      <td>4.669362</td>\n",
       "    </tr>\n",
       "    <tr>\n",
       "      <td>kim jong</td>\n",
       "      <td>0.000367</td>\n",
       "      <td>0.000516</td>\n",
       "      <td>1.405511</td>\n",
       "    </tr>\n",
       "  </tbody>\n",
       "</table>\n",
       "</div>"
      ],
      "text/plain": [
       "               Not-Sarcastic  Sarcastic  sarcasm_ratio\n",
       "token                                                 \n",
       "dunham              0.000476   0.000147       0.308794\n",
       "lawyer              0.000678   0.000358       0.528553\n",
       "subway              0.000409   0.000835       2.042891\n",
       "records             0.000421   0.000271       0.642574\n",
       "conservatives       0.000724   0.000085       0.117741\n",
       "considering         0.000271   0.000444       1.640806\n",
       "partner             0.000364   0.000502       1.380315\n",
       "park                0.000393   0.001297       3.297516\n",
       "new evidence        0.000094   0.000440       4.669362\n",
       "kim jong            0.000367   0.000516       1.405511"
      ]
     },
     "execution_count": 232,
     "metadata": {},
     "output_type": "execute_result"
    }
   ],
   "source": [
    "tokens['sarcasm_ratio'] = tokens['Sarcastic'] / tokens['Not-Sarcastic']\n",
    "tokens.sample(10)"
   ]
  },
  {
   "cell_type": "code",
   "execution_count": 233,
   "metadata": {
    "scrolled": true
   },
   "outputs": [],
   "source": [
    "sarcasm_ratio_df = tokens.sort_values('sarcasm_ratio', ascending=False)\n",
    "not_sarcasm_ratio_df = (tokens[['sarcasm_ratio']]) * -1"
   ]
  },
  {
   "cell_type": "code",
   "execution_count": 234,
   "metadata": {
    "scrolled": true
   },
   "outputs": [
    {
     "data": {
      "text/html": [
       "<div>\n",
       "<style scoped>\n",
       "    .dataframe tbody tr th:only-of-type {\n",
       "        vertical-align: middle;\n",
       "    }\n",
       "\n",
       "    .dataframe tbody tr th {\n",
       "        vertical-align: top;\n",
       "    }\n",
       "\n",
       "    .dataframe thead th {\n",
       "        text-align: right;\n",
       "    }\n",
       "</style>\n",
       "<table border=\"1\" class=\"dataframe\">\n",
       "  <thead>\n",
       "    <tr style=\"text-align: right;\">\n",
       "      <th></th>\n",
       "      <th>Not-Sarcastic</th>\n",
       "      <th>Sarcastic</th>\n",
       "      <th>sarcasm_ratio</th>\n",
       "    </tr>\n",
       "    <tr>\n",
       "      <th>token</th>\n",
       "      <th></th>\n",
       "      <th></th>\n",
       "      <th></th>\n",
       "    </tr>\n",
       "  </thead>\n",
       "  <tbody>\n",
       "    <tr>\n",
       "      <td>theonion</td>\n",
       "      <td>0.000077</td>\n",
       "      <td>0.087573</td>\n",
       "      <td>1139.817697</td>\n",
       "    </tr>\n",
       "    <tr>\n",
       "      <td>localtheonion</td>\n",
       "      <td>0.000067</td>\n",
       "      <td>0.053780</td>\n",
       "      <td>805.895936</td>\n",
       "    </tr>\n",
       "    <tr>\n",
       "      <td>politicstheonion</td>\n",
       "      <td>0.000067</td>\n",
       "      <td>0.033012</td>\n",
       "      <td>494.678493</td>\n",
       "    </tr>\n",
       "    <tr>\n",
       "      <td>entertainmenttheonion</td>\n",
       "      <td>0.000067</td>\n",
       "      <td>0.028047</td>\n",
       "      <td>420.284555</td>\n",
       "    </tr>\n",
       "    <tr>\n",
       "      <td>area man</td>\n",
       "      <td>0.000067</td>\n",
       "      <td>0.007965</td>\n",
       "      <td>119.360590</td>\n",
       "    </tr>\n",
       "    <tr>\n",
       "      <td>...</td>\n",
       "      <td>...</td>\n",
       "      <td>...</td>\n",
       "      <td>...</td>\n",
       "    </tr>\n",
       "    <tr>\n",
       "      <td>video huffingtonpost</td>\n",
       "      <td>0.002026</td>\n",
       "      <td>0.000085</td>\n",
       "      <td>0.042091</td>\n",
       "    </tr>\n",
       "    <tr>\n",
       "      <td>donald trump</td>\n",
       "      <td>0.008585</td>\n",
       "      <td>0.000352</td>\n",
       "      <td>0.041053</td>\n",
       "    </tr>\n",
       "    <tr>\n",
       "      <td>day huffingtonpost</td>\n",
       "      <td>0.002305</td>\n",
       "      <td>0.000085</td>\n",
       "      <td>0.037005</td>\n",
       "    </tr>\n",
       "    <tr>\n",
       "      <td>trump huffingtonpost</td>\n",
       "      <td>0.003106</td>\n",
       "      <td>0.000085</td>\n",
       "      <td>0.027458</td>\n",
       "    </tr>\n",
       "    <tr>\n",
       "      <td>huffingtonpost</td>\n",
       "      <td>0.110504</td>\n",
       "      <td>0.000085</td>\n",
       "      <td>0.000772</td>\n",
       "    </tr>\n",
       "  </tbody>\n",
       "</table>\n",
       "<p>4216 rows × 3 columns</p>\n",
       "</div>"
      ],
      "text/plain": [
       "                       Not-Sarcastic  Sarcastic  sarcasm_ratio\n",
       "token                                                         \n",
       "theonion                    0.000077   0.087573    1139.817697\n",
       "localtheonion               0.000067   0.053780     805.895936\n",
       "politicstheonion            0.000067   0.033012     494.678493\n",
       "entertainmenttheonion       0.000067   0.028047     420.284555\n",
       "area man                    0.000067   0.007965     119.360590\n",
       "...                              ...        ...            ...\n",
       "video huffingtonpost        0.002026   0.000085       0.042091\n",
       "donald trump                0.008585   0.000352       0.041053\n",
       "day huffingtonpost          0.002305   0.000085       0.037005\n",
       "trump huffingtonpost        0.003106   0.000085       0.027458\n",
       "huffingtonpost              0.110504   0.000085       0.000772\n",
       "\n",
       "[4216 rows x 3 columns]"
      ]
     },
     "execution_count": 234,
     "metadata": {},
     "output_type": "execute_result"
    }
   ],
   "source": [
    "sarcasm_ratio_df"
   ]
  },
  {
   "cell_type": "code",
   "execution_count": 235,
   "metadata": {},
   "outputs": [],
   "source": [
    "sarcasm_ratio_dict = dict(zip(sarcasm_ratio_df.index.tolist(), sarcasm_ratio_df['sarcasm_ratio'].tolist()))\n",
    "not_sarcasm_ratio_dict = dict(zip(not_sarcasm_ratio_df.index.tolist(), not_sarcasm_ratio_df['sarcasm_ratio'].tolist()))"
   ]
  },
  {
   "cell_type": "code",
   "execution_count": 236,
   "metadata": {
    "scrolled": true
   },
   "outputs": [],
   "source": [
    "from wordcloud import WordCloud\n",
    "wc = WordCloud(width=3000, height=1500, max_words=50).generate_from_frequencies(sarcasm_ratio_dict)"
   ]
  },
  {
   "cell_type": "code",
   "execution_count": 237,
   "metadata": {
    "scrolled": true
   },
   "outputs": [
    {
     "data": {
      "image/png": "[encoded data removed]",
      "text/plain": [
       "<Figure size 720x360 with 1 Axes>"
      ]
     },
     "metadata": {},
     "output_type": "display_data"
    }
   ],
   "source": [
    "plt.figure(figsize=(10,5))\n",
    "plt.imshow(wc, interpolation='bilinear')\n",
    "plt.axis(\"off\")\n",
    "plt.show()"
   ]
  },
  {
   "cell_type": "code",
   "execution_count": 238,
   "metadata": {},
   "outputs": [],
   "source": [
    "wc_not = WordCloud(width=3000, height=1500, max_words=50).generate_from_frequencies(not_sarcasm_ratio_dict)"
   ]
  },
  {
   "cell_type": "code",
   "execution_count": 239,
   "metadata": {},
   "outputs": [
    {
     "data": {
      "image/png": "[encoded data removed]",
      "text/plain": [
       "<Figure size 720x360 with 1 Axes>"
      ]
     },
     "metadata": {},
     "output_type": "display_data"
    }
   ],
   "source": [
    "plt.figure(figsize=(10,5))\n",
    "plt.imshow(wc_not, interpolation='bilinear')\n",
    "plt.axis(\"off\")\n",
    "plt.show()"
   ]
  },
  {
   "cell_type": "markdown",
   "metadata": {},
   "source": [
    "\n",
    "## Pasirinktinų antraščių tikrinimas"
   ]
  },
  {
   "cell_type": "code",
   "execution_count": 250,
   "metadata": {},
   "outputs": [],
   "source": [
    "headline_test = [\"Construction Worker Performs Incredibly Intricate Tricks With His Giant Excavating Machine\"]\n",
    "headline_test_t = vect.transform(headline_test)"
   ]
  },
  {
   "cell_type": "code",
   "execution_count": 263,
   "metadata": {},
   "outputs": [
    {
     "name": "stdout",
     "output_type": "stream",
     "text": [
      "  (0, 4165)\t0.4757453163164351\n",
      "  (0, 2215)\t0.4898925335550495\n",
      "  (0, 1491)\t0.4842111563934077\n",
      "  (0, 769)\t0.5470020617823563\n"
     ]
    }
   ],
   "source": [
    "print (headline_test_t)"
   ]
  },
  {
   "cell_type": "code",
   "execution_count": 267,
   "metadata": {},
   "outputs": [
    {
     "name": "stdout",
     "output_type": "stream",
     "text": [
      "worker\n",
      "machine\n",
      "giant\n",
      "construction\n"
     ]
    }
   ],
   "source": [
    "print(X_train_tokens[4165])\n",
    "print(X_train_tokens[2215])\n",
    "print(X_train_tokens[1491])\n",
    "print(X_train_tokens[769])"
   ]
  },
  {
   "cell_type": "code",
   "execution_count": 252,
   "metadata": {},
   "outputs": [
    {
     "name": "stdout",
     "output_type": "stream",
     "text": [
      "Headline is not sarcastic\n"
     ]
    }
   ],
   "source": [
    "if model_lr.predict(headline_test_t) == 1:\n",
    "    print('Headline is sarcastic')\n",
    "else:\n",
    "    print('Headline is not sarcastic')"
   ]
  }
 ],
 "metadata": {
  "kernelspec": {
   "display_name": "Python 3",
   "language": "python",
   "name": "python3"
  },
  "language_info": {
   "codemirror_mode": {
    "name": "ipython",
    "version": 3
   },
   "file_extension": ".py",
   "mimetype": "text/x-python",
   "name": "python",
   "nbconvert_exporter": "python",
   "pygments_lexer": "ipython3",
   "version": "3.7.4"
  }
 },
 "nbformat": 4,
 "nbformat_minor": 2
}
